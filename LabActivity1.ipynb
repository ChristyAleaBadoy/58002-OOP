{
  "nbformat": 4,
  "nbformat_minor": 0,
  "metadata": {
    "colab": {
      "provenance": [],
      "authorship_tag": "ABX9TyOuKYvTPQ2lx8wW/1JcfwJs",
      "include_colab_link": true
    },
    "kernelspec": {
      "name": "python3",
      "display_name": "Python 3"
    },
    "language_info": {
      "name": "python"
    }
  },
  "cells": [
    {
      "cell_type": "markdown",
      "metadata": {
        "id": "view-in-github",
        "colab_type": "text"
      },
      "source": [
        "<a href=\"https://colab.research.google.com/github/ChristyAleaBadoy/58002-OOP/blob/main/LabActivity1.ipynb\" target=\"_parent\"><img src=\"https://colab.research.google.com/assets/colab-badge.svg\" alt=\"Open In Colab\"/></a>"
      ]
    },
    {
      "cell_type": "code",
      "execution_count": 5,
      "metadata": {
        "colab": {
          "base_uri": "https://localhost:8080/"
        },
        "id": "UMz7Ab24odeZ",
        "outputId": "280e29ee-8edf-4a28-f341-385c447d6bdf"
      },
      "outputs": [
        {
          "output_type": "stream",
          "name": "stdout",
          "text": [
            "sum= 0\n",
            "average= 0.0\n",
            "sum= 20\n",
            "average= 1.0\n",
            "sum= 39\n",
            "average= 1.95\n",
            "sum= 57\n",
            "average= 2.85\n",
            "sum= 74\n",
            "average= 3.7\n",
            "sum= 90\n",
            "average= 4.5\n",
            "sum= 105\n",
            "average= 5.25\n",
            "sum= 119\n",
            "average= 5.95\n",
            "sum= 132\n",
            "average= 6.6\n",
            "sum= 144\n",
            "average= 7.2\n",
            "sum= 155\n",
            "average= 7.75\n",
            "sum= 165\n",
            "average= 8.25\n",
            "sum= 174\n",
            "average= 8.7\n",
            "sum= 182\n",
            "average= 9.1\n",
            "sum= 189\n",
            "average= 9.45\n",
            "sum= 195\n",
            "average= 9.75\n",
            "sum= 200\n",
            "average= 10.0\n",
            "sum= 204\n",
            "average= 10.2\n",
            "sum= 207\n",
            "average= 10.35\n",
            "sum= 209\n",
            "average= 10.45\n",
            "sum= 210\n",
            "average= 10.5\n"
          ]
        }
      ],
      "source": [
        "n = 20\n",
        "t = n\n",
        "sum = 0\n",
        "avg = 0\n",
        "\n",
        "while n >= 0:\n",
        " print(\"sum=\", sum)\n",
        " print(\"average=\", sum/t)\n",
        " sum +=n\n",
        " n -= 1"
      ]
    }
  ]
}