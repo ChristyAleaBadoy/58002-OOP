{
  "nbformat": 4,
  "nbformat_minor": 0,
  "metadata": {
    "colab": {
      "provenance": [],
      "authorship_tag": "ABX9TyOyg4evz2opVztaF1qDmJIS",
      "include_colab_link": true
    },
    "kernelspec": {
      "name": "python3",
      "display_name": "Python 3"
    },
    "language_info": {
      "name": "python"
    }
  },
  "cells": [
    {
      "cell_type": "markdown",
      "metadata": {
        "id": "view-in-github",
        "colab_type": "text"
      },
      "source": [
        "<a href=\"https://colab.research.google.com/github/ChristyAleaBadoy/58002-OOP/blob/main/OOPConcepts.ipynb\" target=\"_parent\"><img src=\"https://colab.research.google.com/assets/colab-badge.svg\" alt=\"Open In Colab\"/></a>"
      ]
    },
    {
      "cell_type": "code",
      "execution_count": 1,
      "metadata": {
        "colab": {
          "base_uri": "https://localhost:8080/"
        },
        "id": "mKqQFo2_qPMA",
        "outputId": "e41ebfa1-cc67-428c-a2b1-37123132aa80"
      },
      "outputs": [
        {
          "output_type": "stream",
          "name": "stdout",
          "text": [
            "4\n"
          ]
        }
      ],
      "source": [
        "#Creation of class\n",
        "\n",
        "class myClass:     #name of class\n",
        "  y = 4            #PROPERTY NAME\n",
        "\n",
        "p1 = myClass()       #create an object named p1\n",
        "print(p1.y)         #print the value of y\n"
      ]
    },
    {
      "cell_type": "code",
      "source": [
        "class myclass:\n",
        "  pass "
      ],
      "metadata": {
        "id": "Nz_2m4S_x2Tr"
      },
      "execution_count": 2,
      "outputs": []
    },
    {
      "cell_type": "code",
      "source": [
        "#creation of method\n",
        "class Persons:\n",
        "  def __init__(self,name,age):\n",
        "    self.name = name\n",
        "    self.age = age\n",
        "\n",
        "  def myfunction(self):\n",
        "    print(\"Hello, my name is \", self.name)\n",
        "\n",
        "teacher = Persons(\"Maria\",40)\n",
        "teacher.myfunction()"
      ],
      "metadata": {
        "colab": {
          "base_uri": "https://localhost:8080/"
        },
        "id": "xRgLfzoPyBZ8",
        "outputId": "cd5feaaa-0103-4f23-f674-544a49e1865d"
      },
      "execution_count": 5,
      "outputs": [
        {
          "output_type": "stream",
          "name": "stdout",
          "text": [
            "Hello, my name is  Maria\n"
          ]
        }
      ]
    },
    {
      "cell_type": "code",
      "source": [
        "#modification of object properties\n",
        "teacher.name = \"ana\"\n",
        "teacher.myfunction()\n",
        "\n"
      ],
      "metadata": {
        "colab": {
          "base_uri": "https://localhost:8080/"
        },
        "id": "_A0tyyfqzdYQ",
        "outputId": "9b1566c7-39ee-43a8-ca3a-582bce2603ea"
      },
      "execution_count": 8,
      "outputs": [
        {
          "output_type": "stream",
          "name": "stdout",
          "text": [
            "Hello, my name is  ana\n"
          ]
        }
      ]
    },
    {
      "cell_type": "code",
      "source": [
        "#deletion of object properties\n",
        "\n",
        "print(teacher.name)\n"
      ],
      "metadata": {
        "colab": {
          "base_uri": "https://localhost:8080/"
        },
        "id": "YOjI48ylz1ca",
        "outputId": "908083ad-d519-4871-c996-363378bc74b6"
      },
      "execution_count": 12,
      "outputs": [
        {
          "output_type": "stream",
          "name": "stdout",
          "text": [
            "ana\n"
          ]
        }
      ]
    },
    {
      "cell_type": "code",
      "source": [
        "class Shapes:\n",
        "  def __init__(self,side):\n",
        "    self.side = side\n",
        "\n",
        "  def area(self):\n",
        "    return self.side *self.side\n",
        "  \n",
        "  def display(self):\n",
        "    print(\"The area of the square is\",self.area())\n",
        "\n",
        "square = Shapes(5)\n",
        "square.display()"
      ],
      "metadata": {
        "colab": {
          "base_uri": "https://localhost:8080/"
        },
        "id": "8QzaUKuP06Wt",
        "outputId": "62d30d3c-d26b-4064-d7cd-cf347f02791e"
      },
      "execution_count": 13,
      "outputs": [
        {
          "output_type": "stream",
          "name": "stdout",
          "text": [
            "The area of the square is 25\n"
          ]
        }
      ]
    },
    {
      "cell_type": "code",
      "source": [],
      "metadata": {
        "id": "TQaKT80e_keD"
      },
      "execution_count": null,
      "outputs": []
    }
  ]
}