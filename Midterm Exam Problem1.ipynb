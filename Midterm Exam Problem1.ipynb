{
  "nbformat": 4,
  "nbformat_minor": 0,
  "metadata": {
    "colab": {
      "provenance": [],
      "authorship_tag": "ABX9TyMmv/3J8P2Y+p7H9emUNKse",
      "include_colab_link": true
    },
    "kernelspec": {
      "name": "python3",
      "display_name": "Python 3"
    },
    "language_info": {
      "name": "python"
    }
  },
  "cells": [
    {
      "cell_type": "markdown",
      "metadata": {
        "id": "view-in-github",
        "colab_type": "text"
      },
      "source": [
        "<a href=\"https://colab.research.google.com/github/ChristyAleaBadoy/58002-OOP/blob/main/Midterm%20Exam%20Problem1.ipynb\" target=\"_parent\"><img src=\"https://colab.research.google.com/assets/colab-badge.svg\" alt=\"Open In Colab\"/></a>"
      ]
    },
    {
      "cell_type": "code",
      "execution_count": 12,
      "metadata": {
        "colab": {
          "base_uri": "https://localhost:8080/"
        },
        "id": "Of0I2DZIUvoq",
        "outputId": "507ee907-e75b-4914-caed-0456f8abd5c4"
      },
      "outputs": [
        {
          "name": "stdout",
          "output_type": "stream",
          "text": [
            "Enter a number: 4\n"
          ]
        }
      ],
      "source": [
        "class Circle:\n",
        "    def __init__(self,radius,area,perimeter):\n",
        "        self.radius = radius\n",
        "        self.area = area\n",
        "        self.perimeter = perimeter\n",
        "\n",
        "    def area(self):\n",
        "        return self.radius **2 * 3.14\n",
        "    float(input(\"Enter a number: \"))\n",
        "\n",
        "    def display(self):\n",
        "        print(\"The area of the circle is: \", self.area())\n",
        "\n",
        "    def perimeter(self):\n",
        "        float(input(\"Enter a number: \"))\n",
        "        return self.radius **2 * 3.14\n",
        "\n",
        "    def display(self):\n",
        "        print(\"The perimeter of the circle is: \", self.perimeter())\n",
        "\n",
        "\n",
        "        \n"
      ]
    }
  ]
}