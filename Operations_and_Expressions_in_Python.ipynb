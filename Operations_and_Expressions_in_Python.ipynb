{
  "nbformat": 4,
  "nbformat_minor": 0,
  "metadata": {
    "colab": {
      "provenance": [],
      "authorship_tag": "ABX9TyNcK3srm2aTa1uQbtqpppiS",
      "include_colab_link": true
    },
    "kernelspec": {
      "name": "python3",
      "display_name": "Python 3"
    },
    "language_info": {
      "name": "python"
    }
  },
  "cells": [
    {
      "cell_type": "markdown",
      "metadata": {
        "id": "view-in-github",
        "colab_type": "text"
      },
      "source": [
        "<a href=\"https://colab.research.google.com/github/ChristyAleaBadoy/58002-OOP/blob/main/Operations_and_Expressions_in_Python.ipynb\" target=\"_parent\"><img src=\"https://colab.research.google.com/assets/colab-badge.svg\" alt=\"Open In Colab\"/></a>"
      ]
    },
    {
      "cell_type": "markdown",
      "source": [
        "Boolean Operators"
      ],
      "metadata": {
        "id": "MeqdnBzYzyhi"
      }
    },
    {
      "cell_type": "code",
      "source": [
        "print(10>9)\n",
        "print(10<9)\n",
        "print(10==9)"
      ],
      "metadata": {
        "colab": {
          "base_uri": "https://localhost:8080/"
        },
        "id": "yk9rETDQz8Tx",
        "outputId": "11f65e0f-01de-4bfd-cfd3-d21907aec904"
      },
      "execution_count": 4,
      "outputs": [
        {
          "output_type": "stream",
          "name": "stdout",
          "text": [
            "True\n",
            "False\n",
            "False\n"
          ]
        }
      ]
    },
    {
      "cell_type": "code",
      "source": [
        "a=10\n",
        "b=9\n",
        "print(a>b)\n",
        "print(a<b)\n",
        "print(a==b)\n",
        "print(b==b)"
      ],
      "metadata": {
        "colab": {
          "base_uri": "https://localhost:8080/"
        },
        "id": "Xt-04YXV0XLS",
        "outputId": "bb6630b8-5ed3-48bc-8d0a-67345ba39df6"
      },
      "execution_count": 6,
      "outputs": [
        {
          "output_type": "stream",
          "name": "stdout",
          "text": [
            "True\n",
            "False\n",
            "False\n",
            "True\n"
          ]
        }
      ]
    },
    {
      "cell_type": "markdown",
      "source": [
        "Boolean Function Bool() "
      ],
      "metadata": {
        "id": "dXAwtmgD0qD6"
      }
    },
    {
      "cell_type": "code",
      "source": [
        "print(bool(1))\n",
        "print(bool(0))\n",
        "print(bool(\"Ana\"))\n",
        "print(bool(None))\n",
        "print(bool([]))"
      ],
      "metadata": {
        "colab": {
          "base_uri": "https://localhost:8080/"
        },
        "id": "0SP6uNKt0s-y",
        "outputId": "73e20673-d979-41ca-e6e5-c4a90a2e6e95"
      },
      "execution_count": 14,
      "outputs": [
        {
          "output_type": "stream",
          "name": "stdout",
          "text": [
            "True\n",
            "False\n",
            "True\n",
            "False\n",
            "False\n"
          ]
        }
      ]
    },
    {
      "cell_type": "markdown",
      "source": [
        "Functions can return a boolean"
      ],
      "metadata": {
        "id": "scI9aMtz1-VL"
      }
    },
    {
      "cell_type": "code",
      "source": [
        "def myFunction():\n",
        "  return False\n",
        "\n",
        "print(myFunction())"
      ],
      "metadata": {
        "colab": {
          "base_uri": "https://localhost:8080/"
        },
        "id": "amCjgqGj2Cdb",
        "outputId": "cb73e3dd-c24e-41da-f6f7-d743b215e053"
      },
      "execution_count": 17,
      "outputs": [
        {
          "output_type": "stream",
          "name": "stdout",
          "text": [
            "False\n"
          ]
        }
      ]
    },
    {
      "cell_type": "code",
      "source": [
        "def myFunction():\n",
        "  return False\n",
        "if myFunction():\n",
        "  print(\"yes!\")\n",
        "else:\n",
        "  print(\"no!\")"
      ],
      "metadata": {
        "colab": {
          "base_uri": "https://localhost:8080/"
        },
        "id": "zyNx4RTa2dbC",
        "outputId": "e4efa986-591b-440e-fa2c-4960832987ad"
      },
      "execution_count": 19,
      "outputs": [
        {
          "output_type": "stream",
          "name": "stdout",
          "text": [
            "no!\n"
          ]
        }
      ]
    },
    {
      "cell_type": "code",
      "source": [
        "a=6\n",
        "b=7\n",
        "print(6<7)\n",
        "print(a==b)\n",
        "print(a!=b)"
      ],
      "metadata": {
        "colab": {
          "base_uri": "https://localhost:8080/"
        },
        "id": "XogAbomE3W5q",
        "outputId": "3963f4b0-d2e7-4de6-ca5e-254448ae23e5"
      },
      "execution_count": 21,
      "outputs": [
        {
          "output_type": "stream",
          "name": "stdout",
          "text": [
            "True\n",
            "False\n",
            "True\n"
          ]
        }
      ]
    },
    {
      "cell_type": "markdown",
      "source": [
        "Python Operators"
      ],
      "metadata": {
        "id": "1aiAXOCw4Yf2"
      }
    },
    {
      "cell_type": "code",
      "source": [
        "print(10+5)\n",
        "print(10-5)\n",
        "print(10*5)\n",
        "print(10/5)\n",
        "print(10//5)\n",
        "print(10**5)\n",
        "print(10%3)"
      ],
      "metadata": {
        "colab": {
          "base_uri": "https://localhost:8080/"
        },
        "id": "NhlErc0l4I_H",
        "outputId": "7ca785e9-97dd-437d-cf72-1fb6f9e7a43f"
      },
      "execution_count": 26,
      "outputs": [
        {
          "output_type": "stream",
          "name": "stdout",
          "text": [
            "15\n",
            "5\n",
            "50\n",
            "2.0\n",
            "2\n",
            "100000\n",
            "1\n",
            "2.0\n"
          ]
        }
      ]
    },
    {
      "cell_type": "markdown",
      "source": [
        "Bits Operation"
      ],
      "metadata": {
        "id": "JPN1jzoD74sd"
      }
    },
    {
      "cell_type": "code",
      "source": [
        "a=60\n",
        "b=13\n",
        "a<<2\n",
        "a>>2\n",
        "\n",
        "\n"
      ],
      "metadata": {
        "colab": {
          "base_uri": "https://localhost:8080/"
        },
        "id": "2L853HZR7648",
        "outputId": "d17d68fa-501e-4d4b-c13a-97ff4813d75b"
      },
      "execution_count": 32,
      "outputs": [
        {
          "output_type": "execute_result",
          "data": {
            "text/plain": [
              "15"
            ]
          },
          "metadata": {},
          "execution_count": 32
        }
      ]
    },
    {
      "cell_type": "markdown",
      "source": [
        "Python Assignment operators"
      ],
      "metadata": {
        "id": "_eYkg8TL99nH"
      }
    },
    {
      "cell_type": "code",
      "source": [
        "x=1\n",
        "x+=3  # same as x = x+3\n",
        "print(x)\n",
        "x=1 \n",
        "x-=3\n",
        "print(x)"
      ],
      "metadata": {
        "colab": {
          "base_uri": "https://localhost:8080/"
        },
        "id": "Dd3HuA0n-AX3",
        "outputId": "75c6c965-15a8-409f-8928-87fbd736a9bc"
      },
      "execution_count": 38,
      "outputs": [
        {
          "output_type": "stream",
          "name": "stdout",
          "text": [
            "4\n",
            "-2\n"
          ]
        }
      ]
    },
    {
      "cell_type": "markdown",
      "source": [
        "Logical Operators"
      ],
      "metadata": {
        "id": "2SyDMIvpAJf2"
      }
    },
    {
      "cell_type": "code",
      "source": [
        "x = True\n",
        "y = True\n"
      ],
      "metadata": {
        "id": "n3YZ1AUoAK6V"
      },
      "execution_count": 46,
      "outputs": []
    },
    {
      "cell_type": "code",
      "source": [
        "print(x and y)\n",
        "print(x or y)\n",
        "print(not(x or y))"
      ],
      "metadata": {
        "colab": {
          "base_uri": "https://localhost:8080/"
        },
        "id": "-XGVi6T5Af7V",
        "outputId": "5f3ba72f-566a-4ac9-95fb-7b40f2f9d6e5"
      },
      "execution_count": 48,
      "outputs": [
        {
          "output_type": "stream",
          "name": "stdout",
          "text": [
            "True\n",
            "True\n",
            "False\n"
          ]
        }
      ]
    },
    {
      "cell_type": "markdown",
      "source": [
        "Identity Operators"
      ],
      "metadata": {
        "id": "PMsJtr1KBCiQ"
      }
    },
    {
      "cell_type": "code",
      "source": [
        "print(x is y)\n",
        "print(x is not y)"
      ],
      "metadata": {
        "colab": {
          "base_uri": "https://localhost:8080/"
        },
        "id": "QyGJdO6HBEGg",
        "outputId": "d94511c1-d97d-446f-f5a5-c61fa799db09"
      },
      "execution_count": 53,
      "outputs": [
        {
          "output_type": "stream",
          "name": "stdout",
          "text": [
            "True\n",
            "False\n"
          ]
        }
      ]
    },
    {
      "cell_type": "markdown",
      "source": [
        "Application 1 Create an arithmetic calculator (Mdas)"
      ],
      "metadata": {
        "id": "_zExdXt_B1DB"
      }
    },
    {
      "cell_type": "code",
      "source": [
        "\n",
        "\n"
      ],
      "metadata": {
        "id": "BkRoHXQACV-I"
      },
      "execution_count": null,
      "outputs": []
    }
  ]
}